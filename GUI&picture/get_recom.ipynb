{
 "cells": [
  {
   "cell_type": "code",
   "execution_count": 21,
   "metadata": {},
   "outputs": [
    {
     "name": "stdout",
     "output_type": "stream",
     "text": [
      "3882 6040\n"
     ]
    }
   ],
   "source": [
    "import pandas as pd\n",
    "import numpy as np\n",
    "movief = pd.read_excel('mf_16.xlsx')\n",
    "#movief = pd.read_excel('mf_64.xlsx')\n",
    "userf = pd.read_excel('uf_16.xlsx')\n",
    "#userf = pd.read_excel('uf_64.xlsx')\n",
    "movies = movief.values\n",
    "users = userf.values\n",
    "print(len(movies),len(users))\n",
    "\n"
   ]
  },
  {
   "cell_type": "code",
   "execution_count": 22,
   "metadata": {},
   "outputs": [
    {
     "name": "stdout",
     "output_type": "stream",
     "text": [
      "[[2\n",
      "  '0.25425294,-0.2457244,0.24962181,-0.24581432,-0.24892293,-0.24532984,-0.24586874,-0.25127733,-0.25113833,0.24826722,0.24752617,0.25726625,-0.24414212,-0.25203755,-0.25728127,0.25497824']\n",
      " [3\n",
      "  '0.25017294,-0.2457995,0.25436774,-0.24780421,-0.25060365,-0.24953762,-0.24411681,-0.25705525,-0.24559644,0.24756825,0.25047752,0.2564425,-0.24795435,-0.25041232,-0.25473127,0.24689965']\n",
      " [4\n",
      "  '0.25122598,-0.24346033,0.2533685,-0.2475703,-0.25033432,-0.24930677,-0.2442295,-0.2557094,-0.24711587,0.24805807,0.25064957,0.25729752,-0.24668501,-0.25029847,-0.2556204,0.24859317']\n",
      " ...\n",
      " [3950\n",
      "  '0.25064844,-0.24384755,0.2536641,-0.24773964,-0.25032836,-0.24898496,-0.24421787,-0.25552824,-0.24674146,0.24801582,0.2505462,0.2575899,-0.24732833,-0.25045738,-0.2551596,0.24874216']\n",
      " [3951\n",
      "  '0.25142196,-0.24327278,0.25329226,-0.24752927,-0.25018108,-0.24933727,-0.2441545,-0.25574017,-0.24732074,0.24814548,0.25063863,0.2573059,-0.24645485,-0.25029194,-0.25574583,0.24868023']\n",
      " [3952\n",
      "  '0.2507458,-0.24358405,0.25382382,-0.24814448,-0.25034636,-0.24936622,-0.24434324,-0.2560722,-0.24701685,0.24839665,0.2504748,0.25766087,-0.2474508,-0.24960609,-0.25439197,0.2481178']]\n",
      "[[1\n",
      "  '0.24952587,-0.2497826,0.24809784,-0.24828449,-0.2521558,-0.24920432,-0.25074926,-0.24967831,-0.25010177,0.24951456,0.24904588,0.25034744,-0.24963605,-0.2503284,-0.24900536,0.25447148']\n",
      " [2\n",
      "  '0.24932174,-0.24962598,0.24800318,-0.2485117,-0.25200036,-0.24959542,-0.2510715,-0.24951701,-0.24995074,0.24964263,0.24936233,0.2502935,-0.24961667,-0.25019324,-0.2490705,0.25416094']\n",
      " [3\n",
      "  '0.2491912,-0.2495347,0.24795137,-0.24865972,-0.25189647,-0.24985464,-0.2512833,-0.24941035,-0.2498505,0.24972326,0.24956279,0.25025803,-0.24959922,-0.25010687,-0.24910656,0.25395206']\n",
      " ...\n",
      " [6038\n",
      "  '0.24966896,-0.2498952,0.24816698,-0.248126,-0.2522633,-0.24893291,-0.25052512,-0.24979019,-0.25020644,0.24942432,0.2488233,0.25038493,-0.24964797,-0.2504231,-0.24895784,0.25468588']\n",
      " [6039\n",
      "  '0.24923632,-0.24954651,0.24794975,-0.24860203,-0.25194225,-0.24974425,-0.25119677,-0.24945505,-0.24989316,0.24969777,0.24949725,0.25027218,-0.24961625,-0.25013655,-0.24910615,0.2540472']\n",
      " [6040\n",
      "  '0.24980019,-0.24998754,0.24821955,-0.24797684,-0.25236735,-0.24867226,-0.25031197,-0.2498971,-0.25030684,0.24934272,0.24862099,0.25042024,-0.2496649,-0.25050986,-0.2489208,0.25489518']]\n"
     ]
    }
   ],
   "source": [
    "print(movies)\n",
    "print(users)"
   ]
  },
  {
   "cell_type": "code",
   "execution_count": 29,
   "metadata": {},
   "outputs": [
    {
     "name": "stdout",
     "output_type": "stream",
     "text": [
      "3882 6040\n"
     ]
    }
   ],
   "source": [
    "movie = []\n",
    "user = []\n",
    "for i in range(len(movies)):\n",
    "    a=movies[i][1].split(',')\n",
    "    tpl = []\n",
    "    for j in range(len(a)):\n",
    "        tpl.append(float(a[j]))\n",
    "    movie.append(tpl)\n",
    "for i in range(len(users)):\n",
    "    a=users[i][1].split(',')\n",
    "    tpl = []\n",
    "    for j in range(len(a)):\n",
    "        tpl.append(float(a[j]))\n",
    "    user.append(tpl)\n",
    "print(len(movie),len(user))"
   ]
  },
  {
   "cell_type": "code",
   "execution_count": 30,
   "metadata": {},
   "outputs": [],
   "source": [
    "import torch\n",
    "import random\n",
    "moviet = torch.from_numpy(np.array(movie))\n",
    "usert = torch.from_numpy(np.array(user))\n",
    "def int_random(k):\n",
    "    ls = []\n",
    "    while len(ls)<k:\n",
    "        a=random.randint(0,19)\n",
    "        if(a not in ls):\n",
    "            ls.append(a)\n",
    "    return ls"
   ]
  },
  {
   "cell_type": "code",
   "execution_count": 71,
   "metadata": {},
   "outputs": [],
   "source": [
    "from math import sqrt\n",
    "def multipl(a,b):\n",
    "    sumofab = 0.0\n",
    "    for i in range(len(a)):\n",
    "        temp = a[i] * b[i]\n",
    "        sumofab += temp\n",
    "    return sumofab\n",
    "def corrcoef(x,y):\n",
    "    n = len (x)\n",
    "    sum1 = sum (x)\n",
    "    sum2 = sum (y)\n",
    "    sumofxy = multipl(x,y)\n",
    "    sumofx2 = sum([pow(i,2) for i in x])\n",
    "    sumofy2 = sum([pow(j,2) for j in y])\n",
    "    num = sumofxy - (float(sum1)*float(sum2)/n)\n",
    "    den = sqrt((sumofx2 - float(sum1**2)/n)*(sumofy2 - float(sum2**2)/n))\n",
    "    return num/den\n"
   ]
  },
  {
   "cell_type": "code",
   "execution_count": 78,
   "metadata": {},
   "outputs": [
    {
     "name": "stdout",
     "output_type": "stream",
     "text": [
      "([5787, 5663, 5646, 3748, 2008], [[717, 1127, 2557, 3072, 674], [3268, 2911, 3072, 2557, 674], [1422, 3123, 2525, 2534, 2200], [1132, 599, 1035, 717, 1091], [3123, 599, 1786, 674, 1132]])\n"
     ]
    }
   ],
   "source": [
    "'''实现三种推荐方式：topK默认为20\n",
    "1：输入电影ID，推荐相似度最高的5部电影，topK选5\n",
    "2：输入用户ID，推荐最有可能观看的5部电影，topK选5\n",
    "3：输入用户ID，推荐相似度最高的5个人分别最有可能看的5部电影，topK选5'''\n",
    "\n",
    "# return the indexes of movie\n",
    "# dist function: Euclid distance\n",
    "def recommend_by_movie(movieIndex,topK=20):\n",
    "    a = moviet[movieIndex]\n",
    "    ls1 = []\n",
    "    for i in range(len(moviet)):\n",
    "        if (i== movieIndex):\n",
    "            continue\n",
    "        ls1.append(torch.dist(moviet[i],a,p=2))\n",
    "    am = torch.from_numpy(np.array(ls1))\n",
    "    values, indices = torch.topk(am,topK,largest=False)\n",
    "    ran = int_random(5)\n",
    "    recoml = []\n",
    "    for i in range(len(ran)):\n",
    "        recoml.append(indices[ran[i]].item())\n",
    "    return recoml\n",
    "#print(recommend_by_movie(20))\n",
    "\n",
    "\n",
    "# return the indexes of movie\n",
    "# dist function: Pearson correlation\n",
    "def recommend_by_user_self(userIndex,topK=20):\n",
    "    a = usert[userIndex]\n",
    "    ls1 = []\n",
    "    for i in range(len(moviet)):\n",
    "        ls1.append(corrcoef(a,moviet[i]))\n",
    "    am = torch.from_numpy(np.array(ls1))\n",
    "    values, indices = torch.topk(am,topK,largest=True)\n",
    "    ran = int_random(5)\n",
    "    recoml = []\n",
    "    for i in range(len(ran)):\n",
    "        recoml.append(indices[ran[i]].item())\n",
    "    return recoml\n",
    "#print(recommend_by_user_self(1010))\n",
    "\n",
    "\n",
    "# return the list of five users and their movies\n",
    "# dist fumction; Hammming distance\n",
    "def recommend_by_user_other(userIndex,topK=20):\n",
    "    a = usert[userIndex]\n",
    "    ls1 = []\n",
    "    for i in range(len(usert)):\n",
    "        if(i==userIndex):\n",
    "            continue\n",
    "        ls1.append(torch.dist(usert[i],a,p=1))\n",
    "    au=torch.from_numpy(np.array(ls1))\n",
    "    values,indices = torch.topk(au,topK,largest=False)\n",
    "    ran = int_random(5)\n",
    "    simuser = []\n",
    "    for i in range(len(ran)):\n",
    "        simuser.append(indices[ran[i]].item())\n",
    "    recoml=[]\n",
    "    for i in range(len(simuser)):\n",
    "        recoml.append(recommend_by_user_self(simuser[i]))\n",
    "    return simuser,recoml\n",
    "#print(recommend_by_user_other(20))"
   ]
  },
  {
   "cell_type": "code",
   "execution_count": null,
   "metadata": {},
   "outputs": [],
   "source": []
  },
  {
   "cell_type": "code",
   "execution_count": null,
   "metadata": {},
   "outputs": [],
   "source": []
  }
 ],
 "metadata": {
  "kernelspec": {
   "display_name": "Python 3",
   "language": "python",
   "name": "python3"
  },
  "language_info": {
   "codemirror_mode": {
    "name": "ipython",
    "version": 3
   },
   "file_extension": ".py",
   "mimetype": "text/x-python",
   "name": "python",
   "nbconvert_exporter": "python",
   "pygments_lexer": "ipython3",
   "version": "3.8.3"
  }
 },
 "nbformat": 4,
 "nbformat_minor": 4
}
