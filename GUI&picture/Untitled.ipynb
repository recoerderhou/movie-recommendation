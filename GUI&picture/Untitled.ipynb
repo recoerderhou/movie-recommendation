{
 "cells": [
  {
   "cell_type": "code",
   "execution_count": 6,
   "metadata": {},
   "outputs": [
    {
     "name": "stdout",
     "output_type": "stream",
     "text": [
      "        ID                               title                        genres\n",
      "0        1                    Toy Story (1995)   Animation|Children's|Comedy\n",
      "1        2                      Jumanji (1995)  Adventure|Children's|Fantasy\n",
      "2        3             Grumpier Old Men (1995)                Comedy|Romance\n",
      "3        4            Waiting to Exhale (1995)                  Comedy|Drama\n",
      "4        5  Father of the Bride Part II (1995)                        Comedy\n",
      "...    ...                                 ...                           ...\n",
      "3878  3948             Meet the Parents (2000)                        Comedy\n",
      "3879  3949          Requiem for a Dream (2000)                         Drama\n",
      "3880  3950                    Tigerland (2000)                         Drama\n",
      "3881  3951             Two Family House (2000)                         Drama\n",
      "3882  3952               Contender, The (2000)                Drama|Thriller\n",
      "\n",
      "[3883 rows x 3 columns]\n",
      "ID                                   2\n",
      "title                   Jumanji (1995)\n",
      "genres    Adventure|Children's|Fantasy\n",
      "Name: 1, dtype: object\n"
     ]
    }
   ],
   "source": [
    "import numpy as np\n",
    "import pandas as pd\n",
    "ad = pd.read_table(\"movies.dat\",sep = '::',names=['ID','title','genres'],engine = 'python')\n",
    "print(ad)\n",
    "\n",
    "print(ad.loc[1])"
   ]
  },
  {
   "cell_type": "code",
   "execution_count": 8,
   "metadata": {},
   "outputs": [
    {
     "name": "stdout",
     "output_type": "stream",
     "text": [
      "2 Jumanji (1995) Adventure|Children's|Fantasy\n"
     ]
    }
   ],
   "source": [
    "a = ad.loc[1]\n",
    "print(a['ID'],a['title'],a['genres'])"
   ]
  },
  {
   "cell_type": "code",
   "execution_count": null,
   "metadata": {},
   "outputs": [],
   "source": []
  }
 ],
 "metadata": {
  "kernelspec": {
   "display_name": "Python 3",
   "language": "python",
   "name": "python3"
  },
  "language_info": {
   "codemirror_mode": {
    "name": "ipython",
    "version": 3
   },
   "file_extension": ".py",
   "mimetype": "text/x-python",
   "name": "python",
   "nbconvert_exporter": "python",
   "pygments_lexer": "ipython3",
   "version": "3.8.3"
  }
 },
 "nbformat": 4,
 "nbformat_minor": 4
}
