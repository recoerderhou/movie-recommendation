{
 "cells": [
  {
   "cell_type": "code",
   "execution_count": 6,
   "metadata": {},
   "outputs": [
    {
     "name": "stdout",
     "output_type": "stream",
     "text": [
      "      movie  rating\n",
      "user               \n",
      "1      1193       5\n",
      "1       661       3\n",
      "1       914       3\n",
      "1      3408       4\n",
      "1      2355       5\n",
      "...     ...     ...\n",
      "6040   1091       1\n",
      "6040   1094       5\n",
      "6040    562       5\n",
      "6040   1096       4\n",
      "6040   1097       4\n",
      "\n",
      "[1000209 rows x 2 columns]\n"
     ]
    }
   ],
   "source": [
    "import pandas as pd\n",
    "import pickle\n",
    "import numpy as np\n",
    "rating_title =['user','movie','rating','timestamp']\n",
    "ratings = pd.read_table('ratings.dat', sep='::', header=None, names=rating_title,index_col = 0, engine = 'python')\n",
    "#print(ratings)\n",
    "ratings = ratings.drop(columns = ['timestamp'])\n",
    "print(ratings)"
   ]
  },
  {
   "cell_type": "code",
   "execution_count": 7,
   "metadata": {},
   "outputs": [],
   "source": [
    "rating = pd.DataFrame(data = ratings)\n",
    "rating.to_csv('rating.csv',header = None)"
   ]
  },
  {
   "cell_type": "code",
   "execution_count": null,
   "metadata": {},
   "outputs": [],
   "source": []
  }
 ],
 "metadata": {
  "kernelspec": {
   "display_name": "Python 3",
   "language": "python",
   "name": "python3"
  },
  "language_info": {
   "codemirror_mode": {
    "name": "ipython",
    "version": 3
   },
   "file_extension": ".py",
   "mimetype": "text/x-python",
   "name": "python",
   "nbconvert_exporter": "python",
   "pygments_lexer": "ipython3",
   "version": "3.8.3"
  }
 },
 "nbformat": 4,
 "nbformat_minor": 4
}
