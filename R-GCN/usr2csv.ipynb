{
 "cells": [
  {
   "cell_type": "code",
   "execution_count": 15,
   "metadata": {},
   "outputs": [],
   "source": [
    "import pandas as pd\n",
    "import pickle\n",
    "import numpy as np\n",
    "user_title=['ID','gender','age','occu','zipcode']\n",
    "users = pd.read_table('users.dat', sep='::', header=None, names=user_title,index_col = 0, engine = 'python')\n",
    "#print(users)\n",
    "users.loc[users['gender']=='F','gender'] = 1\n",
    "users.loc[users['gender']=='M','gender'] = 0\n",
    "users.loc[users['age']==1,'age'] = 0\n",
    "users.loc[users['age']==18,'age'] = 1\n",
    "users.loc[users['age']==25,'age'] = 2\n",
    "users.loc[users['age']==35,'age'] = 3\n",
    "users.loc[users['age']==45,'age'] = 4\n",
    "users.loc[users['age']==50,'age'] = 5\n",
    "users.loc[users['age']==56,'age'] = 6\n",
    "users['zipcode'] = users['zipcode'].map(lambda x: int(x/10000))\n",
    "    \n",
    "user = pd.DataFrame(data = users)\n",
    "user.to_csv('user.csv',header = None)"
   ]
  },
  {
   "cell_type": "code",
   "execution_count": null,
   "metadata": {},
   "outputs": [],
   "source": []
  }
 ],
 "metadata": {
  "kernelspec": {
   "display_name": "Python 3",
   "language": "python",
   "name": "python3"
  },
  "language_info": {
   "codemirror_mode": {
    "name": "ipython",
    "version": 3
   },
   "file_extension": ".py",
   "mimetype": "text/x-python",
   "name": "python",
   "nbconvert_exporter": "python",
   "pygments_lexer": "ipython3",
   "version": "3.8.3"
  }
 },
 "nbformat": 4,
 "nbformat_minor": 4
}
