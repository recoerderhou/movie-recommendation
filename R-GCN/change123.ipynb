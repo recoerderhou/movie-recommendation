{
 "cells": [
  {
   "cell_type": "code",
   "execution_count": 1,
   "metadata": {},
   "outputs": [
    {
     "name": "stdout",
     "output_type": "stream",
     "text": [
      "        id  gender  age  occu  zip\n",
      "0        1       1    0    10    4\n",
      "1        2       0    6    16    7\n",
      "2        3       0    2    15    5\n",
      "3        4       0    4     7    0\n",
      "4        5       0    2    20    5\n",
      "...    ...     ...  ...   ...  ...\n",
      "6035  6036       1    2    15    3\n",
      "6036  6037       1    4     1    7\n",
      "6037  6038       1    6     1    1\n",
      "6038  6039       1    4     0    0\n",
      "6039  6040       0    2     6    1\n",
      "\n",
      "[6040 rows x 5 columns]\n"
     ]
    }
   ],
   "source": [
    "import numpy as np\n",
    "import pandas as pd\n",
    "user=pd.read_csv(\"user.csv\",names=['id','gender','age','occu','zip'])\n",
    "print(user)"
   ]
  },
  {
   "cell_type": "code",
   "execution_count": 8,
   "metadata": {},
   "outputs": [
    {
     "name": "stdout",
     "output_type": "stream",
     "text": [
      "6040\n"
     ]
    }
   ],
   "source": [
    "ls = []\n",
    "for i in range(len(user)):\n",
    "    gen = user['gender'][i]\n",
    "    ag = user['age'][i]\n",
    "    occ = user['occu'][i]\n",
    "    zi = user['zip'][i]\n",
    "    a=str(gen)+\":\"+str(ag)+\":\"+str(occ)+\":\"+str(zi)\n",
    "    ls.append(a)\n",
    "print(len(ls))"
   ]
  },
  {
   "cell_type": "code",
   "execution_count": 11,
   "metadata": {},
   "outputs": [
    {
     "name": "stdout",
     "output_type": "stream",
     "text": [
      "        id new_feature\n",
      "0        1    1:0:10:4\n",
      "1        2    0:6:16:7\n",
      "2        3    0:2:15:5\n",
      "3        4     0:4:7:0\n",
      "4        5    0:2:20:5\n",
      "...    ...         ...\n",
      "6035  6036    1:2:15:3\n",
      "6036  6037     1:4:1:7\n",
      "6037  6038     1:6:1:1\n",
      "6038  6039     1:4:0:0\n",
      "6039  6040     0:2:6:1\n",
      "\n",
      "[6040 rows x 2 columns]\n"
     ]
    }
   ],
   "source": [
    "user['new_feature'] = ls\n",
    "#print(user)\n",
    "user=user.drop(columns = ['gender','age','occu','zip'])\n",
    "print(user)"
   ]
  },
  {
   "cell_type": "code",
   "execution_count": 12,
   "metadata": {},
   "outputs": [],
   "source": [
    "user.to_csv(\"onef_user.csv\")"
   ]
  },
  {
   "cell_type": "code",
   "execution_count": 6,
   "metadata": {},
   "outputs": [],
   "source": [
    "import pickle\n",
    "import re\n",
    "\n",
    "gr = [\"Action\",\"Adventure\",\"Animation\",\"Children's\",\"Comedy\",\"Crime\",\"Documentary\",\n",
    "      \"Drama\",\"Fantasy\",\"Film-Noir\",\"Horror\",\"Musical\",\"Mystery\",\"Romance\",\"Sci-Fi\",\n",
    "      \"Thriller\",\"War\",\"Western\"]\n",
    "movies_title = ['MovieID', 'Title', 'Genres']\n",
    "movies = pd.read_table('movies.dat', sep='::', header=None, names=movies_title,index_col = 0, engine = 'python')\n",
    "pattern = re.compile(r'^(.*)\\((\\d+)\\)$')\n",
    "title_map = {val:pattern.match(val).group(1) for ii,val in enumerate(set(movies['Title']))}\n",
    "movies['Title'] = movies['Title'].map(title_map)\n",
    "\n",
    "def string_contains(str1,str2):\n",
    "    return bool (str1 in str2)\n",
    "\n",
    "def g_match_0(x):\n",
    "    if string_contains(gr[0],x['Genres']):\n",
    "        return 1\n",
    "    else:\n",
    "        return 0\n",
    "def g_match_1(x):\n",
    "    if string_contains(gr[1],x['Genres']):\n",
    "        return 1\n",
    "    else:\n",
    "        return 0\n",
    "def g_match_2(x):\n",
    "    if string_contains(gr[2],x['Genres']):\n",
    "        return 1\n",
    "    else:\n",
    "        return 0        \n",
    "def g_match_3(x):\n",
    "    if string_contains(gr[3],x['Genres']):\n",
    "        return 1\n",
    "    else:\n",
    "        return 0\n",
    "def g_match_4(x):\n",
    "    if string_contains(gr[4],x['Genres']):\n",
    "        return 1\n",
    "    else:\n",
    "        return 0\n",
    "def g_match_5(x):\n",
    "    if string_contains(gr[5],x['Genres']):\n",
    "        return 1\n",
    "    else:\n",
    "        return 0\n",
    "def g_match_6(x):\n",
    "    if string_contains(gr[6],x['Genres']):\n",
    "        return 1\n",
    "    else:\n",
    "        return 0\n",
    "def g_match_7(x):\n",
    "    if string_contains(gr[7],x['Genres']):\n",
    "        return 1\n",
    "    else:\n",
    "        return 0\n",
    "def g_match_8(x):\n",
    "    if string_contains(gr[8],x['Genres']):\n",
    "        return 1\n",
    "    else:\n",
    "        return 0\n",
    "def g_match_9(x):\n",
    "    if string_contains(gr[9],x['Genres']):\n",
    "        return 1\n",
    "    else:\n",
    "        return 0\n",
    "def g_match_10(x):\n",
    "    if string_contains(gr[10],x['Genres']):\n",
    "        return 1\n",
    "    else:\n",
    "        return 0\n",
    "def g_match_11(x):\n",
    "    if string_contains(gr[11],x['Genres']):\n",
    "        return 1\n",
    "    else:\n",
    "        return 0\n",
    "def g_match_12(x):\n",
    "    if string_contains(gr[12],x['Genres']):\n",
    "        return 1\n",
    "    else:\n",
    "        return 0\n",
    "def g_match_13(x):\n",
    "    if string_contains(gr[13],x['Genres']):\n",
    "        return 1\n",
    "    else:\n",
    "        return 0\n",
    "def g_match_14(x):\n",
    "    if string_contains(gr[14],x['Genres']):\n",
    "        return 1\n",
    "    else:\n",
    "        return 0\n",
    "def g_match_15(x):\n",
    "    if string_contains(gr[15],x['Genres']):\n",
    "        return 1\n",
    "    else:\n",
    "        return 0\n",
    "def g_match_16(x):\n",
    "    if string_contains(gr[16],x['Genres']):\n",
    "        return 1\n",
    "    else:\n",
    "        return 0\n",
    "def g_match_17(x):\n",
    "    if string_contains(gr[17],x['Genres']):\n",
    "        return 1\n",
    "    else:\n",
    "        return 0\n",
    "\n",
    "movies.loc[:,gr[0]] = movies.apply(g_match_0,axis = 1)\n",
    "movies.loc[:,gr[1]] = movies.apply(g_match_1,axis = 1)\n",
    "movies.loc[:,gr[2]] = movies.apply(g_match_2,axis = 1)\n",
    "movies.loc[:,gr[3]] = movies.apply(g_match_3,axis = 1)\n",
    "movies.loc[:,gr[4]] = movies.apply(g_match_4,axis = 1)\n",
    "movies.loc[:,gr[5]] = movies.apply(g_match_5,axis = 1)\n",
    "movies.loc[:,gr[6]] = movies.apply(g_match_6,axis = 1)\n",
    "movies.loc[:,gr[7]] = movies.apply(g_match_7,axis = 1)\n",
    "movies.loc[:,gr[8]] = movies.apply(g_match_8,axis = 1)\n",
    "movies.loc[:,gr[9]] = movies.apply(g_match_9,axis = 1)\n",
    "movies.loc[:,gr[10]] = movies.apply(g_match_10,axis = 1)\n",
    "movies.loc[:,gr[11]] = movies.apply(g_match_11,axis = 1)\n",
    "movies.loc[:,gr[12]] = movies.apply(g_match_12,axis = 1)\n",
    "movies.loc[:,gr[13]] = movies.apply(g_match_13,axis = 1)\n",
    "movies.loc[:,gr[14]] = movies.apply(g_match_14,axis = 1)\n",
    "movies.loc[:,gr[15]] = movies.apply(g_match_15,axis = 1)\n",
    "movies.loc[:,gr[16]] = movies.apply(g_match_16,axis = 1)\n",
    "movies.loc[:,gr[17]] = movies.apply(g_match_17,axis = 1)\n",
    "#print(movies)\n",
    "for i in range(len(gr)):\n",
    "    movies_title.append(gr[i])\n",
    "movies_title.remove('Genres')\n",
    "#print(movies_title)\n",
    "movies = movies.drop(['Genres'],axis = 1)\n",
    "movies = movies.drop(['Title'],axis =1)\n",
    "#print(movies)\n"
   ]
  },
  {
   "cell_type": "code",
   "execution_count": 7,
   "metadata": {},
   "outputs": [],
   "source": [
    "#print(movies)\n",
    "ls1 = []\n",
    "for i in range(len(gr)):\n",
    "    ls1.append(list(movies[gr[i]]))\n",
    "#print(ls1)\n",
    "mls = []\n",
    "for i in range(3883):\n",
    "    a=\"\"\n",
    "    for j in range(17):\n",
    "        a+=str(ls1[j][i])+\":\"\n",
    "    a+=str(ls1[17][i])\n",
    "    mls.append(a)\n"
   ]
  },
  {
   "cell_type": "code",
   "execution_count": 8,
   "metadata": {},
   "outputs": [
    {
     "name": "stdout",
     "output_type": "stream",
     "text": [
      "                                 new_feature\n",
      "MovieID                                     \n",
      "1        0:0:1:1:1:0:0:0:0:0:0:0:0:0:0:0:0:0\n",
      "2        0:1:0:1:0:0:0:0:1:0:0:0:0:0:0:0:0:0\n",
      "3        0:0:0:0:1:0:0:0:0:0:0:0:0:1:0:0:0:0\n",
      "4        0:0:0:0:1:0:0:1:0:0:0:0:0:0:0:0:0:0\n",
      "5        0:0:0:0:1:0:0:0:0:0:0:0:0:0:0:0:0:0\n",
      "...                                      ...\n",
      "3948     0:0:0:0:1:0:0:0:0:0:0:0:0:0:0:0:0:0\n",
      "3949     0:0:0:0:0:0:0:1:0:0:0:0:0:0:0:0:0:0\n",
      "3950     0:0:0:0:0:0:0:1:0:0:0:0:0:0:0:0:0:0\n",
      "3951     0:0:0:0:0:0:0:1:0:0:0:0:0:0:0:0:0:0\n",
      "3952     0:0:0:0:0:0:0:1:0:0:0:0:0:0:0:1:0:0\n",
      "\n",
      "[3883 rows x 1 columns]\n"
     ]
    }
   ],
   "source": [
    "movies['new_feature'] = mls\n",
    "movies=movies.drop(columns = gr)\n",
    "print(movies)"
   ]
  },
  {
   "cell_type": "code",
   "execution_count": 9,
   "metadata": {},
   "outputs": [],
   "source": [
    "movies.to_csv(\"onef_movie.csv\")"
   ]
  },
  {
   "cell_type": "code",
   "execution_count": null,
   "metadata": {},
   "outputs": [],
   "source": []
  }
 ],
 "metadata": {
  "kernelspec": {
   "display_name": "Python 3",
   "language": "python",
   "name": "python3"
  },
  "language_info": {
   "codemirror_mode": {
    "name": "ipython",
    "version": 3
   },
   "file_extension": ".py",
   "mimetype": "text/x-python",
   "name": "python",
   "nbconvert_exporter": "python",
   "pygments_lexer": "ipython3",
   "version": "3.8.3"
  }
 },
 "nbformat": 4,
 "nbformat_minor": 4
}
