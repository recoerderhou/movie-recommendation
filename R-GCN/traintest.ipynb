{
 "cells": [
  {
   "cell_type": "code",
   "execution_count": 2,
   "metadata": {},
   "outputs": [],
   "source": [
    "import pandas as pd\n",
    "rating_titles = ['user_node','movie_node','ratings','timestamp']\n",
    "ratings = pd.read_table('ratings.dat',sep='::',header=None,names=rating_titles,engine = 'python')\n",
    "df1 = ratings.sort_values(by = \"timestamp\",ascending = False)\n",
    "train_size = int(0.9*df1.shape[0])\n",
    "test_size = int(df1.shape[0]-train_size)\n",
    "test = df1.iloc[0:test_size,:]\n",
    "rating_test = pd.DataFrame(columns = rating_titles, data = test)\n",
    "rating_test.to_csv('rating_test.csv',header = None)\n",
    "df2 = ratings.sort_values(by = \"timestamp\",ascending = True)\n",
    "train = df2.iloc[0:train_size,:]\n",
    "train_test = pd.DataFrame(columns = rating_titles, data = train)\n",
    "train_test.to_csv('rating_train.csv',header = None)"
   ]
  },
  {
   "cell_type": "code",
   "execution_count": null,
   "metadata": {},
   "outputs": [],
   "source": []
  }
 ],
 "metadata": {
  "kernelspec": {
   "display_name": "Python 3",
   "language": "python",
   "name": "python3"
  },
  "language_info": {
   "codemirror_mode": {
    "name": "ipython",
    "version": 3
   },
   "file_extension": ".py",
   "mimetype": "text/x-python",
   "name": "python",
   "nbconvert_exporter": "python",
   "pygments_lexer": "ipython3",
   "version": "3.8.3"
  }
 },
 "nbformat": 4,
 "nbformat_minor": 4
}
