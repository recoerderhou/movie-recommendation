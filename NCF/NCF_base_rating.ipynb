{
 "cells": [
  {
   "cell_type": "code",
   "execution_count": 1,
   "metadata": {},
   "outputs": [
    {
     "name": "stdout",
     "output_type": "stream",
     "text": [
      "         UserId  MovieId  ratings  timestamp\n",
      "0             1     1193        5  978300760\n",
      "1             1      661        3  978302109\n",
      "2             1      914        3  978301968\n",
      "3             1     3408        4  978300275\n",
      "4             1     2355        5  978824291\n",
      "...         ...      ...      ...        ...\n",
      "1000204    6040     1091        1  956716541\n",
      "1000205    6040     1094        5  956704887\n",
      "1000206    6040      562        5  956704746\n",
      "1000207    6040     1096        4  956715648\n",
      "1000208    6040     1097        4  956715569\n",
      "\n",
      "[1000209 rows x 4 columns]\n"
     ]
    }
   ],
   "source": [
    "import pandas as pd\n",
    "import numpy as np\n",
    "\n",
    "import torch\n",
    "import torch.nn as nn\n",
    "from torch.utils.data import Dataset, DataLoader\n",
    "import pytorch_lightning as pl\n",
    "\n",
    "def read_data():\n",
    "    rating=pd.read_table('ratings.dat',sep='::',header=None,names=['UserId','MovieId','ratings','timestamp'],engine='python')\n",
    "    return rating\n",
    "rating = read_data()\n",
    "print(rating)"
   ]
  },
  {
   "cell_type": "code",
   "execution_count": 2,
   "metadata": {},
   "outputs": [
    {
     "name": "stdout",
     "output_type": "stream",
     "text": [
      "         UserId  MovieId  ratings\n",
      "25            1       48        5\n",
      "66            2     1687        3\n",
      "232           3     2081        4\n",
      "235           4     2951        4\n",
      "258           5      288        2\n",
      "...         ...      ...      ...\n",
      "998803     6036     2807        1\n",
      "999557     6037      968        4\n",
      "999731     6038     1183        5\n",
      "999764     6039      912        4\n",
      "1000042    6040     1221        4\n",
      "\n",
      "[6040 rows x 3 columns]\n"
     ]
    }
   ],
   "source": [
    "rating['rank_latest'] = rating.groupby(['UserId'])['timestamp'].rank(method='first',ascending=False)\n",
    "train_ratings = rating[rating['rank_latest'] != 1]\n",
    "test_ratings = rating[rating['rank_latest']==1]\n",
    "train_ratings = train_ratings[['UserId','MovieId','ratings']]\n",
    "test_ratings = test_ratings[['UserId','MovieId','ratings']]\n",
    "print(test_ratings)"
   ]
  },
  {
   "cell_type": "code",
   "execution_count": 3,
   "metadata": {},
   "outputs": [
    {
     "data": {
      "text/html": [
       "<div>\n",
       "<style scoped>\n",
       "    .dataframe tbody tr th:only-of-type {\n",
       "        vertical-align: middle;\n",
       "    }\n",
       "\n",
       "    .dataframe tbody tr th {\n",
       "        vertical-align: top;\n",
       "    }\n",
       "\n",
       "    .dataframe thead th {\n",
       "        text-align: right;\n",
       "    }\n",
       "</style>\n",
       "<table border=\"1\" class=\"dataframe\">\n",
       "  <thead>\n",
       "    <tr style=\"text-align: right;\">\n",
       "      <th></th>\n",
       "      <th>UserId</th>\n",
       "      <th>MovieId</th>\n",
       "      <th>ratings</th>\n",
       "      <th>rating</th>\n",
       "    </tr>\n",
       "  </thead>\n",
       "  <tbody>\n",
       "    <tr>\n",
       "      <th>860431</th>\n",
       "      <td>5173</td>\n",
       "      <td>589</td>\n",
       "      <td>5</td>\n",
       "      <td>1</td>\n",
       "    </tr>\n",
       "    <tr>\n",
       "      <th>820740</th>\n",
       "      <td>4933</td>\n",
       "      <td>453</td>\n",
       "      <td>2</td>\n",
       "      <td>1</td>\n",
       "    </tr>\n",
       "    <tr>\n",
       "      <th>105737</th>\n",
       "      <td>698</td>\n",
       "      <td>2012</td>\n",
       "      <td>3</td>\n",
       "      <td>1</td>\n",
       "    </tr>\n",
       "    <tr>\n",
       "      <th>31894</th>\n",
       "      <td>216</td>\n",
       "      <td>2352</td>\n",
       "      <td>3</td>\n",
       "      <td>1</td>\n",
       "    </tr>\n",
       "    <tr>\n",
       "      <th>923840</th>\n",
       "      <td>5580</td>\n",
       "      <td>919</td>\n",
       "      <td>5</td>\n",
       "      <td>1</td>\n",
       "    </tr>\n",
       "  </tbody>\n",
       "</table>\n",
       "</div>"
      ],
      "text/plain": [
       "        UserId  MovieId  ratings  rating\n",
       "860431    5173      589        5       1\n",
       "820740    4933      453        2       1\n",
       "105737     698     2012        3       1\n",
       "31894      216     2352        3       1\n",
       "923840    5580      919        5       1"
      ]
     },
     "execution_count": 3,
     "metadata": {},
     "output_type": "execute_result"
    }
   ],
   "source": [
    "train_ratings.loc[:,'rating']=1\n",
    "train_ratings.sample(5)"
   ]
  },
  {
   "cell_type": "code",
   "execution_count": 4,
   "metadata": {},
   "outputs": [],
   "source": [
    "#generate neg, neg:pos=4:1\n",
    "allmovie = rating['MovieId'].unique()\n",
    "user,movie,label=[],[],[]\n",
    "user_movie = set(zip(train_ratings['UserId'],train_ratings['MovieId']))\n",
    "num_neg = 4\n",
    "for(u,i) in user_movie:\n",
    "    user.append(u)\n",
    "    movie.append(i)\n",
    "    label.append(1)\n",
    "    for j in range(num_neg):\n",
    "        neg_movie = np.random.choice(allmovie)\n",
    "        while(u,neg_movie) in user_movie:\n",
    "            neg_movie = np.random.choice(allmovie)\n",
    "        user.append(u)\n",
    "        movie.append(neg_movie)\n",
    "        label.append(0)\n"
   ]
  },
  {
   "cell_type": "code",
   "execution_count": 5,
   "metadata": {},
   "outputs": [],
   "source": [
    "class Dataset(Dataset):\n",
    "\n",
    "    def __init__(self, rating, movieIds):\n",
    "        self.users, self.movies, self.labels = self.get_dataset(rating, movieIds)\n",
    "\n",
    "    def __len__(self):\n",
    "        return len(self.users)\n",
    "  \n",
    "    def __getitem__(self, idx):\n",
    "        return self.users[idx], self.movies[idx], self.labels[idx]\n",
    "\n",
    "    def get_dataset(self, rating, movieIds):\n",
    "        users, movies, labels = [], [], []\n",
    "        rating_set = set(zip(rating['UserId'], rating['MovieId']))\n",
    "        num_neg = 5\n",
    "        for u, i in rating_set:\n",
    "            users.append(u)\n",
    "            movies.append(i)\n",
    "            labels.append(1)\n",
    "            for j in range(num_neg):\n",
    "                negmovie = np.random.choice(all_movieIds)\n",
    "                while (u, negmovie) in rating_set:\n",
    "                    negmovie = np.random.choice(all_movieIds)\n",
    "                users.append(u)\n",
    "                movies.append(negmovie)\n",
    "                labels.append(0)\n",
    "        return torch.tensor(users), torch.tensor(movies), torch.tensor(labels)"
   ]
  },
  {
   "cell_type": "code",
   "execution_count": 8,
   "metadata": {},
   "outputs": [],
   "source": [
    "class NCF(pl.LightningModule):\n",
    "    \n",
    "    def __init__(self, num_users, num_items, ratings, all_movieIds):\n",
    "        super().__init__()\n",
    "        self.user_embedding = nn.Embedding(num_embeddings=num_users, embedding_dim=16)\n",
    "        self.item_embedding = nn.Embedding(num_embeddings=num_items, embedding_dim=16)\n",
    "        self.fc1 = nn.Linear(in_features=32, out_features=64)\n",
    "        self.fc2 = nn.Linear(in_features=64, out_features=32)\n",
    "        self.output = nn.Linear(in_features=32, out_features=1)\n",
    "        self.ratings = ratings\n",
    "        self.all_movieIds = all_movieIds\n",
    "        \n",
    "    def forward(self, user_input, item_input):\n",
    "        user_embedded = self.user_embedding(user_input)\n",
    "        item_embedded = self.item_embedding(item_input)\n",
    "        vector = torch.cat([user_embedded, item_embedded], dim=-1)\n",
    "        vector = nn.ReLU()(self.fc1(vector))\n",
    "        vector = nn.ReLU()(self.fc2(vector))\n",
    "        pred = nn.Sigmoid()(self.output(vector))\n",
    "        return pred\n",
    "    \n",
    "    def training_step(self, batch, batch_idx):\n",
    "        user_input, item_input, labels = batch\n",
    "        predicted_labels = self(user_input, item_input)\n",
    "        loss = nn.BCELoss()(predicted_labels, labels.view(-1, 1).float())\n",
    "        return loss\n",
    "\n",
    "    def configure_optimizers(self):\n",
    "        return torch.optim.Adam(self.parameters())\n",
    "    \n",
    "    def train_dataloader(self):\n",
    "        return DataLoader(Dataset(self.ratings, self.all_movieIds),\n",
    "                          batch_size=512, num_workers=0)"
   ]
  },
  {
   "cell_type": "code",
   "execution_count": 9,
   "metadata": {},
   "outputs": [
    {
     "name": "stderr",
     "output_type": "stream",
     "text": [
      "GPU available: False, used: False\n",
      "TPU available: False, using: 0 TPU cores\n",
      "\n",
      "  | Name           | Type      | Params\n",
      "---------------------------------------------\n",
      "0 | user_embedding | Embedding | 96.7 K\n",
      "1 | item_embedding | Embedding | 63.2 K\n",
      "2 | fc1            | Linear    | 2.1 K \n",
      "3 | fc2            | Linear    | 2.1 K \n",
      "4 | output         | Linear    | 33    \n",
      "---------------------------------------------\n",
      "164 K     Trainable params\n",
      "0         Non-trainable params\n",
      "164 K     Total params\n",
      "0.657     Total estimated model params size (MB)\n"
     ]
    },
    {
     "data": {
      "application/vnd.jupyter.widget-view+json": {
       "model_id": "73700ea4b21a49ccb51ec657a5a5f08e",
       "version_major": 2,
       "version_minor": 0
      },
      "text/plain": [
       "HBox(children=(FloatProgress(value=1.0, bar_style='info', description='Training', layout=Layout(flex='2'), max…"
      ]
     },
     "metadata": {},
     "output_type": "display_data"
    },
    {
     "name": "stdout",
     "output_type": "stream",
     "text": [
      "\n"
     ]
    }
   ],
   "source": [
    "num_users = rating['UserId'].max()+1\n",
    "num_items = rating['MovieId'].max()+1\n",
    "\n",
    "all_movieIds = rating['MovieId'].unique()\n",
    "\n",
    "model = NCF(num_users, num_items, train_ratings, all_movieIds)\n",
    "trainer = pl.Trainer(max_epochs=20, reload_dataloaders_every_epoch=True,\n",
    "                     progress_bar_refresh_rate=50, logger=False, checkpoint_callback=False)\n",
    "\n",
    "trainer.fit(model)"
   ]
  },
  {
   "cell_type": "code",
   "execution_count": 13,
   "metadata": {},
   "outputs": [
    {
     "name": "stdout",
     "output_type": "stream",
     "text": [
      "The hit ratio @ 10 is 0.56\n"
     ]
    }
   ],
   "source": [
    "test_user_movie = set(zip(test_ratings['UserId'],test_ratings['MovieId']))\n",
    "user_interacted_items = rating.groupby('UserId')['MovieId'].apply(list).to_dict()\n",
    "hits=[]\n",
    "for (u,i) in test_user_movie:\n",
    "    inter = user_interacted_items[u]\n",
    "    notinter = set(allmovie)-set(inter)\n",
    "    selecnot = list(np.random.choice(list(notinter),99))\n",
    "    test_movie = selecnot+[i]\n",
    "    pre_label = np.squeeze(model(torch.tensor([u]*100),torch.tensor(test_movie)).detach().numpy())\n",
    "    top10 = [test_movie[i] for i in np.argsort(pre_label)[::-1][0:10].tolist()]\n",
    "    if i in top10:\n",
    "        hits.append(1)\n",
    "    else:\n",
    "        hits.append(0)\n",
    "print(\"The hit ratio @ 10 is {:.2f}\".format(np.average(hits)))"
   ]
  },
  {
   "cell_type": "code",
   "execution_count": null,
   "metadata": {},
   "outputs": [],
   "source": []
  }
 ],
 "metadata": {
  "kernelspec": {
   "display_name": "Python 3",
   "language": "python",
   "name": "python3"
  },
  "language_info": {
   "codemirror_mode": {
    "name": "ipython",
    "version": 3
   },
   "file_extension": ".py",
   "mimetype": "text/x-python",
   "name": "python",
   "nbconvert_exporter": "python",
   "pygments_lexer": "ipython3",
   "version": "3.8.3"
  }
 },
 "nbformat": 4,
 "nbformat_minor": 4
}
