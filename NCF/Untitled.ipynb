{
 "cells": [
  {
   "cell_type": "code",
   "execution_count": null,
   "metadata": {},
   "outputs": [
    {
     "name": "stderr",
     "output_type": "stream",
     "text": [
      "<>:14: SyntaxWarning: 'tuple' object is not callable; perhaps you missed a comma?\n",
      "<>:14: SyntaxWarning: 'tuple' object is not callable; perhaps you missed a comma?\n",
      "DGL backend not selected or invalid.  Assuming PyTorch for now.\n"
     ]
    },
    {
     "name": "stdout",
     "output_type": "stream",
     "text": [
      "Setting the default backend to \"pytorch\". You can change it in the ~/.dgl/config.json file or export the DGLBACKEND environment variable.  Valid options are: pytorch, mxnet, tensorflow (all lowercase)\n"
     ]
    },
    {
     "name": "stderr",
     "output_type": "stream",
     "text": [
      "Using backend: pytorch\n",
      "D:\\anaconda\\lib\\site-packages\\dgl\\base.py:45: DGLWarning: Recommend creating graphs by `dgl.graph(data)` instead of `dgl.DGLGraph(data)`.\n",
      "  return warnings.warn(message, category=category, stacklevel=1)\n"
     ]
    }
   ],
   "source": [
    "import networkx as nx\n",
    "import dgl\n",
    "import matplotlib.pyplot as plt\n",
    "u=[0,0,0,0,0]\n",
    "v=[1,2,3,4,5]\n",
    "star1 = dgl.DGLGraph((u,v))\n",
    "nx.draw(star1.to_networkx(), with_labels = True)\n",
    "plt.show()\n",
    "\n",
    "star2 = dgl.DGLGraph((0,v))\n",
    "nx.draw(star2.to_networkx(),with_lables = True)\n",
    "plt.show()\n",
    "\n",
    "star3 = dgl.DGLGraph([(0,1),(0,2),(0,3),(0,4)(0,5)])\n",
    "nx.draw(star3.to_networkx(),with_lables = True)\n",
    "plt.show()"
   ]
  },
  {
   "cell_type": "code",
   "execution_count": null,
   "metadata": {},
   "outputs": [],
   "source": []
  }
 ],
 "metadata": {
  "kernelspec": {
   "display_name": "Python 3",
   "language": "python",
   "name": "python3"
  },
  "language_info": {
   "codemirror_mode": {
    "name": "ipython",
    "version": 3
   },
   "file_extension": ".py",
   "mimetype": "text/x-python",
   "name": "python",
   "nbconvert_exporter": "python",
   "pygments_lexer": "ipython3",
   "version": "3.8.3"
  }
 },
 "nbformat": 4,
 "nbformat_minor": 4
}
